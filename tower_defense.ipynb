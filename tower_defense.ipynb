{
 "cells": [
  {
   "cell_type": "code",
   "execution_count": 1,
   "id": "1aa6f751",
   "metadata": {},
   "outputs": [
    {
     "name": "stdout",
     "output_type": "stream",
     "text": [
      "Press 1-4 to select the plants or the delete function.\n",
      "Gewonnen! Du hast alle Zombies getötet!\n"
     ]
    }
   ],
   "source": [
    "from lsg.plants_vs_zombies import Game\n",
    "\n",
    "spiel = Game()\n",
    "spiel.start_game()"
   ]
  },
  {
   "cell_type": "code",
   "execution_count": null,
   "id": "2482fc70",
   "metadata": {},
   "outputs": [],
   "source": []
  }
 ],
 "metadata": {
  "kernelspec": {
   "display_name": "Python 3 (ipykernel)",
   "language": "python",
   "name": "python3"
  },
  "language_info": {
   "codemirror_mode": {
    "name": "ipython",
    "version": 3
   },
   "file_extension": ".py",
   "mimetype": "text/x-python",
   "name": "python",
   "nbconvert_exporter": "python",
   "pygments_lexer": "ipython3",
   "version": "3.11.0"
  }
 },
 "nbformat": 4,
 "nbformat_minor": 5
}
