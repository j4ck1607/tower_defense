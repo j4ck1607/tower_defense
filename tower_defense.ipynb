{
 "cells": [
  {
   "cell_type": "code",
   "execution_count": 1,
   "id": "c2086255",
   "metadata": {},
   "outputs": [
    {
     "name": "stdout",
     "output_type": "stream",
     "text": [
      "Verloren! Die Zombies haben dich erreicht!\n"
     ]
    }
   ],
   "source": [
    "from lsg.plants_vs_zombies import Game\n",
    "\n",
    "spiel = Game()\n",
    "spiel.start_game()"
   ]
  },
  {
   "cell_type": "code",
   "execution_count": null,
   "id": "b9bd2ffa",
   "metadata": {},
   "outputs": [],
   "source": []
  }
 ],
 "metadata": {
  "kernelspec": {
   "display_name": "Python 3 (ipykernel)",
   "language": "python",
   "name": "python3"
  },
  "language_info": {
   "codemirror_mode": {
    "name": "ipython",
    "version": 3
   },
   "file_extension": ".py",
   "mimetype": "text/x-python",
   "name": "python",
   "nbconvert_exporter": "python",
   "pygments_lexer": "ipython3",
   "version": "3.11.0"
  }
 },
 "nbformat": 4,
 "nbformat_minor": 5
}
