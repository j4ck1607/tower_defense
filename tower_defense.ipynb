{
 "cells": [
  {
   "cell_type": "code",
   "execution_count": null,
   "id": "1aa6f751",
   "metadata": {},
   "outputs": [],
   "source": [
    "from lsg.plants_vs_zombies import Game\n",
    "\n",
    "spiel = Game()\n",
    "spiel.start_game()"
   ]
  },
  {
   "cell_type": "code",
   "execution_count": null,
   "id": "b17ed8d8",
   "metadata": {},
   "outputs": [],
   "source": []
  }
 ],
 "metadata": {
  "kernelspec": {
   "display_name": "Python 3 (ipykernel)",
   "language": "python",
   "name": "python3"
  },
  "language_info": {
   "codemirror_mode": {
    "name": "ipython",
    "version": 3
   },
   "file_extension": ".py",
   "mimetype": "text/x-python",
   "name": "python",
   "nbconvert_exporter": "python",
   "pygments_lexer": "ipython3",
   "version": "3.11.0"
  }
 },
 "nbformat": 4,
 "nbformat_minor": 5
}
